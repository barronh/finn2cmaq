{
  "nbformat": 4,
  "nbformat_minor": 0,
  "metadata": {
    "colab": {
      "name": "FINN2CMAQ.ipynb",
      "provenance": [],
      "authorship_tag": "ABX9TyPkgzDv53X9VQAmKi8W/93L",
      "include_colab_link": true
    },
    "kernelspec": {
      "name": "python3",
      "display_name": "Python 3"
    },
    "language_info": {
      "name": "python"
    }
  },
  "cells": [
    {
      "cell_type": "markdown",
      "metadata": {
        "id": "view-in-github",
        "colab_type": "text"
      },
      "source": [
        "<a href=\"https://colab.research.google.com/github/barronh/finn2cmaq/blob/master/examples/FINN2CMAQ.ipynb\" target=\"_parent\"><img src=\"https://colab.research.google.com/assets/colab-badge.svg\" alt=\"Open In Colab\"/></a>"
      ]
    },
    {
      "cell_type": "markdown",
      "metadata": {
        "id": "MG8cxCwuStbI"
      },
      "source": [
        "# Example Application of FINN2CMAQ\n",
        "\n",
        "    author: Barron H. Henderson\n",
        "    date: 2021-06-24\n",
        "\n",
        "## Objective\n",
        "\n",
        "Prepare CMAQ-ready emissions from the Fire INventory from National Center for Atmospheric Research (FINN) version 1.5.\n",
        "\n",
        "## Steps\n",
        "\n",
        "1. Install necessary prerequisites.\n",
        "2. Download FINN2CMAQ working directory.\n",
        "3. Enter the working directory\n",
        "4. Download 1-year of FINN data\n",
        "5. Grid the data to a CMAQ domain.\n",
        "6. Apply hourly allocation, vertical allocation and speciation.\n",
        "7. Repeat the process for Near-Real-Time FINN"
      ]
    },
    {
      "cell_type": "markdown",
      "metadata": {
        "id": "qcZe7UfMTrgp"
      },
      "source": [
        "## Step 1: Install necessary prerequisites"
      ]
    },
    {
      "cell_type": "code",
      "metadata": {
        "id": "ec06kdvuMUYH"
      },
      "source": [
        "%%capture\n",
        "pip install pyproj pseudonetcdf pandas"
      ],
      "execution_count": 1,
      "outputs": []
    },
    {
      "cell_type": "markdown",
      "metadata": {
        "id": "v8xObPj2TwKj"
      },
      "source": [
        "## Step 2: Downlaod FINN2CMAQ working directory"
      ]
    },
    {
      "cell_type": "code",
      "metadata": {
        "id": "iwDzgsARLn4a"
      },
      "source": [
        "import requests\n",
        "import zipfile\n",
        "import gc\n",
        "from datetime import datetime"
      ],
      "execution_count": 2,
      "outputs": []
    },
    {
      "cell_type": "code",
      "metadata": {
        "id": "qhl4CZb3MOS6"
      },
      "source": [
        "zresp = requests.get('https://codeload.github.com/barronh/finn2cmaq/zip/refs/heads/master')"
      ],
      "execution_count": 3,
      "outputs": []
    },
    {
      "cell_type": "code",
      "metadata": {
        "id": "FmP0dqVEL9rP"
      },
      "source": [
        "with open('finn2cmaq-master.zip', 'wb') as zf:\n",
        "  zf.write(zresp.content)"
      ],
      "execution_count": 4,
      "outputs": []
    },
    {
      "cell_type": "code",
      "metadata": {
        "id": "-PCF67tzL-F8"
      },
      "source": [
        "zipfile.ZipFile('finn2cmaq-master.zip').extractall()"
      ],
      "execution_count": 5,
      "outputs": []
    },
    {
      "cell_type": "markdown",
      "metadata": {
        "id": "xcONTAuxT8ov"
      },
      "source": [
        "## Step 3: Enter the working directory"
      ]
    },
    {
      "cell_type": "code",
      "metadata": {
        "colab": {
          "base_uri": "https://localhost:8080/"
        },
        "id": "ebCoyxiCM6v5",
        "outputId": "0711ed1c-cd14-490f-b4f9-1159bad63063"
      },
      "source": [
        "cd finn2cmaq-master/"
      ],
      "execution_count": 6,
      "outputs": [
        {
          "output_type": "stream",
          "text": [
            "/content/finn2cmaq-master\n"
          ],
          "name": "stdout"
        }
      ]
    },
    {
      "cell_type": "markdown",
      "metadata": {
        "id": "ixGPv-m8OZNn"
      },
      "source": [
        "## Step 4: Download 1-year of FINN data\n",
        "\n",
        "Download FINN v1.5 with GEOS-Chem Speciation\n",
        "\n",
        "1. Go to https://www.acom.ucar.edu/Data/fire/\n",
        "2. Enter your contact info\n",
        "3. Select \"FINNv1.5 with Year: 2016 Speciation: GEOS-Chem\n",
        "4. Enter the security question answer\n",
        "5. Click submit\n",
        "6. Right click on the \"Click Here\" do download and copy the URL\n",
        "7. Paste the url below"
      ]
    },
    {
      "cell_type": "code",
      "metadata": {
        "id": "xBt5D4xaO8xf"
      },
      "source": [
        "finnurl = 'https://www.acom.ucar.edu/Data/fire/data/finn1/FINNv1.5_2016.GEOSCHEM.tar.gz'"
      ],
      "execution_count": 7,
      "outputs": []
    },
    {
      "cell_type": "code",
      "metadata": {
        "colab": {
          "base_uri": "https://localhost:8080/"
        },
        "id": "cHg2mV1AM93i",
        "outputId": "a3989ecd-1832-48fe-d5c0-8ed024bc0194"
      },
      "source": [
        "!wget -r --continue {finnurl}"
      ],
      "execution_count": 8,
      "outputs": [
        {
          "output_type": "stream",
          "text": [
            "--2021-06-24 15:00:50--  https://www.acom.ucar.edu/Data/fire/data/finn1/FINNv1.5_2016.GEOSCHEM.tar.gz\n",
            "Resolving www.acom.ucar.edu (www.acom.ucar.edu)... 128.117.164.26\n",
            "Connecting to www.acom.ucar.edu (www.acom.ucar.edu)|128.117.164.26|:443... connected.\n",
            "HTTP request sent, awaiting response... 200 OK\n",
            "Length: 988875973 (943M) [application/x-gzip]\n",
            "Saving to: ‘www.acom.ucar.edu/Data/fire/data/finn1/FINNv1.5_2016.GEOSCHEM.tar.gz’\n",
            "\n",
            "www.acom.ucar.edu/D 100%[===================>] 943.07M  77.8MB/s    in 12s     \n",
            "\n",
            "2021-06-24 15:01:03 (75.9 MB/s) - ‘www.acom.ucar.edu/Data/fire/data/finn1/FINNv1.5_2016.GEOSCHEM.tar.gz’ saved [988875973/988875973]\n",
            "\n",
            "FINISHED --2021-06-24 15:01:03--\n",
            "Total wall clock time: 13s\n",
            "Downloaded: 1 files, 943M in 12s (75.9 MB/s)\n"
          ],
          "name": "stdout"
        }
      ]
    },
    {
      "cell_type": "markdown",
      "metadata": {
        "id": "Z_sdXf20UPmN"
      },
      "source": [
        "## Step 5: Grid the data to a CMAQ domain.\n",
        "\n",
        "* Print run help.\n",
        "* Grid 2016 data (takes ~2min)\n",
        "  * To use a different grid, edit GRIDDESC\n",
        "\n",
        "As a note, I precede many `run` calls with a `gc.collect()`. This ensures that unused memory is cleared before starting a command. This matters most if you are *rerunning* cells."
      ]
    },
    {
      "cell_type": "code",
      "metadata": {
        "colab": {
          "base_uri": "https://localhost:8080/"
        },
        "id": "03kCXRQuUj8j",
        "outputId": "873462d1-48e9-4b04-f32e-4962c1dc13f7"
      },
      "source": [
        "%run scripts/txt2daily.py -h"
      ],
      "execution_count": 9,
      "outputs": [
        {
          "output_type": "stream",
          "text": [
            "usage: txt2daily.py [-h] [-v] GRIDDESC GDNAM YEAR FINNPATH OUTPATH\n",
            "\n",
            "positional arguments:\n",
            "  GRIDDESC\n",
            "  GDNAM\n",
            "  YEAR\n",
            "  FINNPATH\n",
            "  OUTPATH\n",
            "\n",
            "optional arguments:\n",
            "  -h, --help     show this help message and exit\n",
            "  -v, --verbose\n"
          ],
          "name": "stdout"
        }
      ]
    },
    {
      "cell_type": "code",
      "metadata": {
        "colab": {
          "base_uri": "https://localhost:8080/"
        },
        "id": "ImcPJvVrNCQQ",
        "outputId": "e4b2147c-43fc-42de-e8b7-00a08dfee630"
      },
      "source": [
        "gc.collect()\n",
        "%run -t scripts/txt2daily.py aux/GRIDDESC 108NHEMI2 2016 www.acom.ucar.edu/Data/fire/data/finn1/FINNv1.5_2016.GEOSCHEM.tar.gz ./gridded/FINNv1.5_2016.GEOSCHEM.nc"
      ],
      "execution_count": 10,
      "outputs": [
        {
          "output_type": "stream",
          "text": [
            "**PNC:/usr/local/lib/python3.7/dist-packages/PseudoNetCDF/pncwarn.py:24:UserWarning:\n",
            "  IOAPI_ISPH is assumed to be 6370000.; consistent with WRF\n",
            "**PNC:/usr/local/lib/python3.7/dist-packages/PseudoNetCDF/pncwarn.py:24:UserWarning:\n",
            "  IOAPI_ISPH is assumed to be 6370000.; consistent with WRF\n",
            "**PNC:/usr/local/lib/python3.7/dist-packages/PseudoNetCDF/pncwarn.py:24:UserWarning:\n",
            "  Currently not using:straight_vertical_longitude_from_pole -98.0\n"
          ],
          "name": "stderr"
        },
        {
          "output_type": "stream",
          "text": [
            "\n",
            "IPython CPU timings (estimated):\n",
            "  User   :     106.60 s.\n",
            "  System :       6.22 s.\n",
            "Wall time:     112.40 s.\n"
          ],
          "name": "stdout"
        }
      ]
    },
    {
      "cell_type": "markdown",
      "metadata": {
        "id": "XQsVa4Y0UZ7p"
      },
      "source": [
        "## Step 6: Apply hourly allocation, vertical allocation and speciation.\n",
        "\n",
        "* Print run help.\n",
        "* Run for 2016 daily (takes ~30s per day, so 3h for a year).\n",
        "  * For example purposes, I run the first day of Jan, Apr, Jun, and Oct.\n",
        "  * If you omit `-d`, it will run all days."
      ]
    },
    {
      "cell_type": "code",
      "metadata": {
        "colab": {
          "base_uri": "https://localhost:8080/"
        },
        "id": "9Zan__9oUh89",
        "outputId": "1d5c4e8a-d560-4232-b6a3-f5c59d23a296"
      },
      "source": [
        "%run scripts/daily2hourly3d.py -h"
      ],
      "execution_count": 12,
      "outputs": [
        {
          "output_type": "stream",
          "text": [
            "usage: daily2hourly3d.py [-h] [-v] [-l LAYERPATH] [-t TPROPATH] [-e EXPRPATH]\n",
            "                         [-d DATES]\n",
            "                         inpath outtmp\n",
            "\n",
            "positional arguments:\n",
            "  inpath\n",
            "  outtmp\n",
            "\n",
            "optional arguments:\n",
            "  -h, --help            show this help message and exit\n",
            "  -v, --verbose\n",
            "  -l LAYERPATH, --layerpath LAYERPATH\n",
            "                        Layer fraction file\n",
            "  -t TPROPATH, --tpropath TPROPATH\n",
            "                        Hourly temporal profile path\n",
            "  -e EXPRPATH, --exprpath EXPRPATH\n",
            "                        Speciation conversion script path\n",
            "  -d DATES, --date DATES\n",
            "                        Process only this date YYYY-MM-DD\n"
          ],
          "name": "stdout"
        }
      ]
    },
    {
      "cell_type": "code",
      "metadata": {
        "colab": {
          "base_uri": "https://localhost:8080/"
        },
        "id": "NT5YexhePvfh",
        "outputId": "e1c1a2c4-cdae-4336-9600-1c93ccf42a15"
      },
      "source": [
        "gc.collect()\n",
        "%run -t scripts/daily2hourly3d.py -d 2016-01-01 -d 2016-04-01 -d 2016-07-01 -d 2016-10-01 ./gridded/FINNv1.5_2016.GEOSCHEM.nc ./cmaqready/FINNv1.5_%Y-%m-%d.GEOSCHEM.nc"
      ],
      "execution_count": 17,
      "outputs": [
        {
          "output_type": "stream",
          "text": [
            "Preparing inputs and factors\n"
          ],
          "name": "stdout"
        },
        {
          "output_type": "stream",
          "text": [
            "**PNC:/usr/local/lib/python3.7/dist-packages/PseudoNetCDF/pncwarn.py:24:UserWarning:\n",
            "  IOAPI_ISPH is assumed to be 6370000.; consistent with WRF\n",
            "**PNC:/usr/local/lib/python3.7/dist-packages/PseudoNetCDF/pncwarn.py:24:UserWarning:\n",
            "  Currently not using:straight_vertical_longitude_from_pole -98.0\n"
          ],
          "name": "stderr"
        },
        {
          "output_type": "stream",
          "text": [
            "Preparing outputs\n",
            "Processing days\n",
            "Processing 2016-01-01.AREA.CO.NO.NO2.SO2.NH3.ECH4.ACET.ALD2.BENZENE.PAR.ETHY.ETHE.ETHA.PRPA.FORM.GLY.GLYC.HAC.MGLY.KET.IOLE.TOL.XYL.POC.PEC.PSO4.PNO3.PMOTHR.Saving\n",
            "Processing 2016-04-01.AREA.CO.NO.NO2.SO2.NH3.ECH4.ACET.ALD2.BENZENE.PAR.ETHY.ETHE.ETHA.PRPA.FORM.GLY.GLYC.HAC.MGLY.KET.IOLE.TOL.XYL.POC.PEC.PSO4.PNO3.PMOTHR.Saving\n",
            "Processing 2016-07-01.AREA.CO.NO.NO2.SO2.NH3.ECH4.ACET.ALD2.BENZENE.PAR.ETHY.ETHE.ETHA.PRPA.FORM.GLY.GLYC.HAC.MGLY.KET.IOLE.TOL.XYL.POC.PEC.PSO4.PNO3.PMOTHR.Saving\n",
            "Processing 2016-10-01.AREA.CO.NO.NO2.SO2.NH3.ECH4.ACET.ALD2.BENZENE.PAR.ETHY.ETHE.ETHA.PRPA.FORM.GLY.GLYC.HAC.MGLY.KET.IOLE.TOL.XYL.POC.PEC.PSO4.PNO3.PMOTHR.Saving\n",
            "\n",
            "IPython CPU timings (estimated):\n",
            "  User   :      74.03 s.\n",
            "  System :       5.75 s.\n",
            "Wall time:      79.78 s.\n"
          ],
          "name": "stdout"
        }
      ]
    },
    {
      "cell_type": "markdown",
      "metadata": {
        "id": "DYn9TB5EZtUt"
      },
      "source": [
        "## Step 7: Repeat the process for Near-Real-Time"
      ]
    },
    {
      "cell_type": "code",
      "metadata": {
        "colab": {
          "base_uri": "https://localhost:8080/"
        },
        "id": "4fDNyQrOXn2P",
        "outputId": "902e8cb4-53fe-425d-8bd2-155acfd4e993"
      },
      "source": [
        "YYYYJJJ = datetime(2020, 3, 1).strftime('%Y%j')\n",
        "!wget -r --continue https://www.acom.ucar.edu/acresp/MODELING/finn_emis_txt/GLOB_GEOSchem_{YYYYJJJ}.txt.gz"
      ],
      "execution_count": 14,
      "outputs": [
        {
          "output_type": "stream",
          "text": [
            "--2021-06-24 15:05:08--  https://www.acom.ucar.edu/acresp/MODELING/finn_emis_txt/GLOB_GEOSchem_2020061.txt.gz\n",
            "Resolving www.acom.ucar.edu (www.acom.ucar.edu)... 128.117.164.26\n",
            "Connecting to www.acom.ucar.edu (www.acom.ucar.edu)|128.117.164.26|:443... connected.\n",
            "HTTP request sent, awaiting response... 200 OK\n",
            "Length: 1691831 (1.6M) [application/x-gzip]\n",
            "Saving to: ‘www.acom.ucar.edu/acresp/MODELING/finn_emis_txt/GLOB_GEOSchem_2020061.txt.gz’\n",
            "\n",
            "www.acom.ucar.edu/a 100%[===================>]   1.61M  6.49MB/s    in 0.2s    \n",
            "\n",
            "2021-06-24 15:05:09 (6.49 MB/s) - ‘www.acom.ucar.edu/acresp/MODELING/finn_emis_txt/GLOB_GEOSchem_2020061.txt.gz’ saved [1691831/1691831]\n",
            "\n",
            "FINISHED --2021-06-24 15:05:09--\n",
            "Total wall clock time: 0.5s\n",
            "Downloaded: 1 files, 1.6M in 0.2s (6.49 MB/s)\n"
          ],
          "name": "stdout"
        }
      ]
    },
    {
      "cell_type": "code",
      "metadata": {
        "colab": {
          "base_uri": "https://localhost:8080/"
        },
        "id": "lLJNUMq0ZOd0",
        "outputId": "53dbd4d5-43ae-4560-ae3d-b606e1c73796"
      },
      "source": [
        "gc.collect()\n",
        "%run -t scripts/txt2daily.py aux/GRIDDESC 108NHEMI2 2020 www.acom.ucar.edu/acresp/MODELING/finn_emis_txt/GLOB_GEOSchem_2020061.txt.gz ./gridded/GLOB_GEOSchem_2020061.nc"
      ],
      "execution_count": 15,
      "outputs": [
        {
          "output_type": "stream",
          "text": [
            "**PNC:/usr/local/lib/python3.7/dist-packages/PseudoNetCDF/pncwarn.py:24:UserWarning:\n",
            "  IOAPI_ISPH is assumed to be 6370000.; consistent with WRF\n",
            "**PNC:/usr/local/lib/python3.7/dist-packages/PseudoNetCDF/pncwarn.py:24:UserWarning:\n",
            "  IOAPI_ISPH is assumed to be 6370000.; consistent with WRF\n",
            "**PNC:/usr/local/lib/python3.7/dist-packages/PseudoNetCDF/pncwarn.py:24:UserWarning:\n",
            "  Currently not using:straight_vertical_longitude_from_pole -98.0\n"
          ],
          "name": "stderr"
        },
        {
          "output_type": "stream",
          "text": [
            "\n",
            "IPython CPU timings (estimated):\n",
            "  User   :       0.52 s.\n",
            "  System :       0.03 s.\n",
            "Wall time:       0.56 s.\n"
          ],
          "name": "stdout"
        }
      ]
    },
    {
      "cell_type": "code",
      "metadata": {
        "colab": {
          "base_uri": "https://localhost:8080/"
        },
        "id": "YpkheiMKZgnG",
        "outputId": "001f6dd4-4516-4cc2-844b-d247c7af0482"
      },
      "source": [
        "gc.collect()\n",
        "%run -t scripts/daily2hourly3d.py ./gridded/GLOB_GEOSchem_2020061.nc ./cmaqready/GLOB_GEOSchem_%Y-%m-%d.nc"
      ],
      "execution_count": 18,
      "outputs": [
        {
          "output_type": "stream",
          "text": [
            "Preparing inputs and factors\n"
          ],
          "name": "stdout"
        },
        {
          "output_type": "stream",
          "text": [
            "**PNC:/usr/local/lib/python3.7/dist-packages/PseudoNetCDF/pncwarn.py:24:UserWarning:\n",
            "  IOAPI_ISPH is assumed to be 6370000.; consistent with WRF\n",
            "**PNC:/usr/local/lib/python3.7/dist-packages/PseudoNetCDF/pncwarn.py:24:UserWarning:\n",
            "  Currently not using:straight_vertical_longitude_from_pole -98.0\n"
          ],
          "name": "stderr"
        },
        {
          "output_type": "stream",
          "text": [
            "Preparing outputs\n",
            "Processing days\n",
            "Processing 2020-03-01.AREA.CO.NO.NO2.SO2.NH3.ECH4.ACET.ALD2.BENZENE.PAR.ETHY.ETHE.ETHA.PRPA.FORM.GLY.GLYC.HAC.MGLY.KET.IOLE.TOL.XYL.POC.PEC.PSO4.PNO3.PMOTHR.Saving\n",
            "\n",
            "IPython CPU timings (estimated):\n",
            "  User   :      18.23 s.\n",
            "  System :       0.92 s.\n",
            "Wall time:      19.21 s.\n"
          ],
          "name": "stdout"
        }
      ]
    },
    {
      "cell_type": "code",
      "metadata": {
        "id": "7BxpNAU_ZpYl"
      },
      "source": [
        ""
      ],
      "execution_count": null,
      "outputs": []
    }
  ]
}